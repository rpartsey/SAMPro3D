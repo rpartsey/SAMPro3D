{
 "cells": [
  {
   "cell_type": "code",
   "execution_count": null,
   "metadata": {},
   "outputs": [],
   "source": [
    "import numpy as np\n",
    "import open3d as o3d\n",
    "from PIL import Image\n",
    "import matplotlib.pyplot as plt\n",
    "from utils.vis_utils import show_mask_ins, show_points_color"
   ]
  },
  {
   "cell_type": "code",
   "execution_count": null,
   "metadata": {},
   "outputs": [],
   "source": [
    "device = \"cuda:0\"\n",
    "\n",
    "# dataset params\n",
    "dataset_dir = \"/home/rpartsey/code/eai/SAMPro3D-fork/data/scannet/scans\"\n",
    "scene_name = \"scene0000_02\""
   ]
  },
  {
   "cell_type": "code",
   "execution_count": null,
   "metadata": {},
   "outputs": [],
   "source": [
    "# experiment params\n",
    "experiments_dir = \"/home/rpartsey/code/eai/SAMPro3D-fork/experiments/scannet/scans/3js_prompt\"\n",
    "experiment_name = \"guitar\"\n",
    "\n",
    "prompt_path = f\"{dataset_dir}/{scene_name}/{scene_name}_guitar.ply\"\n",
    "sam_output_path =  f\"{experiments_dir}/{scene_name}/{experiment_name}/sam_output\"\n",
    "sampro3d_predictions =  f\"{experiments_dir}/{scene_name}/{experiment_name}/sampro3d_predictions\"\n",
    "output_vis_path = f\"{experiments_dir}/{scene_name}/{experiment_name}/visualization\""
   ]
  },
  {
   "cell_type": "code",
   "execution_count": null,
   "metadata": {},
   "outputs": [],
   "source": [
    "i = 772\n",
    "frame_path = f\"{dataset_dir}/{scene_name}/color/{i}.jpg\"\n",
    "frame = Image.open(frame_path)\n",
    "frame.show()\n",
    "\n",
    "\n",
    "mask_path = f\"{sam_output_path}/masks_npy/{i}.npy\"\n",
    "mask = np.load(mask_path)\n",
    "print(mask.shape)\n",
    "\n",
    "points_path = f\"{sam_output_path}/points_npy/{i}.npy\"\n",
    "points = np.load(points_path)\n",
    "print(points.shape)\n",
    "\n",
    "\n",
    "def visualize_masks_and_points(frame, points):\n",
    "    \"\"\"\n",
    "    Visualize masks and points on the given frame for specified mask indices.\n",
    "    \n",
    "    Args:\n",
    "    frame (PIL.Image): The input image\n",
    "    mask (np.array): Array of masks\n",
    "    points (np.array): Array of points\n",
    "    start_idx (int): Starting index of masks to visualize\n",
    "    end_idx (int): Ending index of masks to visualize\n",
    "    \"\"\"\n",
    "    # Convert PIL Image to numpy array\n",
    "    frame_np = np.array(frame)\n",
    "    \n",
    "    # Create a figure and axis\n",
    "    fig, ax = plt.subplots(1, 1, figsize=(15, 10))\n",
    "    \n",
    "    # Display the frame\n",
    "    ax.imshow(frame_np)\n",
    "    \n",
    "    # Plot masks and points\n",
    "    show_points_color(points, np.ones(points.shape[0]), ax, np.random.rand(3), marker_size=200)\n",
    "    \n",
    "    ax.axis('off')\n",
    "    plt.tight_layout()\n",
    "    plt.show()\n",
    "\n",
    "# Example usage:\n",
    "start_idx = 0\n",
    "end_idx = 2  # Visualize first 5 masks and points\n",
    "visualize_masks_and_points(frame, points)"
   ]
  }
 ],
 "metadata": {
  "kernelspec": {
   "display_name": "sampro3d",
   "language": "python",
   "name": "python3"
  },
  "language_info": {
   "codemirror_mode": {
    "name": "ipython",
    "version": 3
   },
   "file_extension": ".py",
   "mimetype": "text/x-python",
   "name": "python",
   "nbconvert_exporter": "python",
   "pygments_lexer": "ipython3",
   "version": "3.10.14"
  }
 },
 "nbformat": 4,
 "nbformat_minor": 2
}
