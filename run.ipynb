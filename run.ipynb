{
 "cells": [
  {
   "cell_type": "code",
   "execution_count": null,
   "metadata": {},
   "outputs": [],
   "source": [
    "import os"
   ]
  },
  {
   "cell_type": "code",
   "execution_count": null,
   "metadata": {},
   "outputs": [],
   "source": [
    "device = \"cuda:0\"\n",
    "\n",
    "# dataset params\n",
    "dataset_dir = \"/home/rpartsey/code/eai/SAMPro3D-fork/data/scannet/scans\"\n",
    "scene_name = \"scene0000_02\""
   ]
  },
  {
   "cell_type": "code",
   "execution_count": null,
   "metadata": {},
   "outputs": [],
   "source": [
    "# experiment params\n",
    "experiments_dir = \"/home/rpartsey/code/eai/SAMPro3D-fork/experiments/scannet/scans/3js_prompt\"\n",
    "experiment_name = \"guitar\"\n",
    "\n",
    "prompt_path = f\"{dataset_dir}/{scene_name}/{scene_name}_guitar.ply\"\n",
    "sam_output_path =  f\"{experiments_dir}/{scene_name}/{experiment_name}/sam_output\"\n",
    "sampro3d_predictions =  f\"{experiments_dir}/{scene_name}/{experiment_name}/sampro3d_predictions\"\n",
    "output_vis_path = f\"{experiments_dir}/{scene_name}/{experiment_name}/visualization\"\n",
    "\n",
    "os.makedirs(prompt_path)\n",
    "os.makedirs(sam_output_path)\n",
    "os.makedirs(sampro3d_predictions)\n",
    "os.makedirs(output_vis_path)"
   ]
  },
  {
   "cell_type": "code",
   "execution_count": null,
   "metadata": {},
   "outputs": [],
   "source": [
    "# run 3d_prompt_proposal.py\n",
    "\n",
    "!python 3d_prompt_proposal.py \\\n",
    "    --data_path {dataset_dir} \\\n",
    "    --scene_name {scene_name} \\\n",
    "    --prompt_path {prompt_path} \\\n",
    "    --sam_output_path {sam_output_path} \\\n",
    "    --device {device}"
   ]
  },
  {
   "cell_type": "code",
   "execution_count": null,
   "metadata": {},
   "outputs": [],
   "source": [
    "# run main.py\n",
    "\n",
    "!python main.py \\\n",
    "    --data_path {dataset_dir} \\\n",
    "    --scene_name {scene_name} \\\n",
    "    --prompt_path {prompt_path} \\\n",
    "    --sam_output_path {sam_output_path} \\\n",
    "    --pred_path {sampro3d_predictions} \\\n",
    "    --output_vis_path {output_vis_path} \\\n",
    "    --device {device}"
   ]
  }
 ],
 "metadata": {
  "kernelspec": {
   "display_name": "sampro3d",
   "language": "python",
   "name": "python3"
  },
  "language_info": {
   "codemirror_mode": {
    "name": "ipython",
    "version": 3
   },
   "file_extension": ".py",
   "mimetype": "text/x-python",
   "name": "python",
   "nbconvert_exporter": "python",
   "pygments_lexer": "ipython3",
   "version": "3.10.14"
  }
 },
 "nbformat": 4,
 "nbformat_minor": 2
}
